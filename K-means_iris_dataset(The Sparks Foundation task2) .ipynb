{
  "nbformat": 4,
  "nbformat_minor": 0,
  "metadata": {
    "colab": {
      "name": "Untitled14.ipynb",
      "provenance": [],
      "mount_file_id": "https://github.com/Ahmed-Shatla/Unsupervised-Basic-model/blob/main/unsupervised%20.ipynb",
      "authorship_tag": "ABX9TyO8G5gT2Dbj67ReBNPG3npS",
      "include_colab_link": true
    },
    "kernelspec": {
      "name": "python3",
      "display_name": "Python 3"
    },
    "language_info": {
      "name": "python"
    },
    "accelerator": "TPU"
  },
  "cells": [
    {
      "cell_type": "markdown",
      "metadata": {
        "id": "view-in-github",
        "colab_type": "text"
      },
      "source": [
        "<a href=\"https://colab.research.google.com/github/Ahmed-Shatla/Unsupervised-Basic-model/blob/main/K-means_iris_dataset(The%20Sparks%20Foundation%20task2)%20.ipynb\" target=\"_parent\"><img src=\"https://colab.research.google.com/assets/colab-badge.svg\" alt=\"Open In Colab\"/></a>"
      ]
    },
    {
      "cell_type": "code",
      "execution_count": null,
      "metadata": {
        "id": "X0DfPA7rzCOr"
      },
      "outputs": [],
      "source": [
        "import pandas as pd\n",
        "import numpy as np\n",
        "import matplotlib.pyplot as plt\n",
        "import seaborn as sns"
      ]
    },
    {
      "cell_type": "code",
      "source": [
        "data = pd.read_csv('/content/drive/MyDrive/sparks/Iris.csv')\n",
        "data\n",
        "X,y = data.iloc[:,:-1],data.iloc[:,-1]\n",
        "y"
      ],
      "metadata": {
        "id": "brpx4no70KZR",
        "outputId": "46817e82-910e-4733-e277-517099b396ea",
        "colab": {
          "base_uri": "https://localhost:8080/"
        }
      },
      "execution_count": null,
      "outputs": [
        {
          "output_type": "execute_result",
          "data": {
            "text/plain": [
              "0         Iris-setosa\n",
              "1         Iris-setosa\n",
              "2         Iris-setosa\n",
              "3         Iris-setosa\n",
              "4         Iris-setosa\n",
              "            ...      \n",
              "145    Iris-virginica\n",
              "146    Iris-virginica\n",
              "147    Iris-virginica\n",
              "148    Iris-virginica\n",
              "149    Iris-virginica\n",
              "Name: Species, Length: 150, dtype: object"
            ]
          },
          "metadata": {},
          "execution_count": 2
        }
      ]
    },
    {
      "cell_type": "markdown",
      "source": [
        "#check Nulls"
      ],
      "metadata": {
        "id": "FeDONzKL0b0_"
      }
    },
    {
      "cell_type": "code",
      "source": [
        "X.isna().sum()"
      ],
      "metadata": {
        "id": "jmqGfj6S0WH4",
        "outputId": "aafdd407-564f-4e4e-8e12-a0442d2f445c",
        "colab": {
          "base_uri": "https://localhost:8080/"
        }
      },
      "execution_count": null,
      "outputs": [
        {
          "output_type": "execute_result",
          "data": {
            "text/plain": [
              "Id               0\n",
              "SepalLengthCm    0\n",
              "SepalWidthCm     0\n",
              "PetalLengthCm    0\n",
              "PetalWidthCm     0\n",
              "dtype: int64"
            ]
          },
          "metadata": {},
          "execution_count": 3
        }
      ]
    },
    {
      "cell_type": "code",
      "source": [
        "X=X.drop(['Id'],axis=1)\n",
        "X=X.iloc[:,:].values\n"
      ],
      "metadata": {
        "id": "4gwFXnHr3ACP"
      },
      "execution_count": null,
      "outputs": []
    },
    {
      "cell_type": "code",
      "source": [
        "from sklearn.cluster import KMeans\n",
        "wcss=[]\n",
        "for i in range(1,11):\n",
        "  model=KMeans(n_clusters=i,init='k-means++',random_state=1)\n",
        "  model.fit(X)\n",
        "  wcss.append(model.inertia_)"
      ],
      "metadata": {
        "id": "3vDVmQzC0ke_"
      },
      "execution_count": null,
      "outputs": []
    },
    {
      "cell_type": "code",
      "source": [
        "plt.plot(range(1,11,1),wcss)\n",
        "plt.title('Elbow Method')\n",
        "plt.xlabel('Number of clusters')\n",
        "plt.ylabel('Wcss')\n",
        "plt.show()"
      ],
      "metadata": {
        "id": "Pz4U5vD65OAh",
        "outputId": "da235cb5-4747-42be-af6c-83d0c604e4d9",
        "colab": {
          "base_uri": "https://localhost:8080/",
          "height": 295
        }
      },
      "execution_count": null,
      "outputs": [
        {
          "output_type": "display_data",
          "data": {
            "text/plain": [
              "<Figure size 432x288 with 1 Axes>"
            ],
            "image/png": "[encoded data removed]"
          },
          "metadata": {
            "needs_background": "light"
          }
        }
      ]
    },
    {
      "cell_type": "code",
      "source": [
        "model = KMeans(n_clusters=3,init='k-means++',random_state=1)\n",
        "model.fit(X)"
      ],
      "metadata": {
        "id": "QWQbhVKjE2j_",
        "outputId": "d3c0fb26-f01c-44d6-b4ac-e5bed0461999",
        "colab": {
          "base_uri": "https://localhost:8080/"
        }
      },
      "execution_count": null,
      "outputs": [
        {
          "output_type": "execute_result",
          "data": {
            "text/plain": [
              "KMeans(n_clusters=3, random_state=1)"
            ]
          },
          "metadata": {},
          "execution_count": 8
        }
      ]
    },
    {
      "cell_type": "code",
      "source": [
        "y_pred = model.fit_predict(X)"
      ],
      "metadata": {
        "id": "6FVXFq-DFQ4e"
      },
      "execution_count": null,
      "outputs": []
    },
    {
      "cell_type": "code",
      "source": [
        "plt.figure(figsize=(20,10))\n",
        "plt.scatter(X[y_pred==0,0],X[y_pred==0,1],s=100,c='red',label='cluster1')\n",
        "plt.scatter(X[y_pred==1,0],X[y_pred==1,1],s=100,c='blue',label='cluster2')\n",
        "plt.scatter(X[y_pred==2,0],X[y_pred==2,1],s=100,c='magenta',label='cluster3')\n",
        "\n",
        "\n",
        "plt.legend()"
      ],
      "metadata": {
        "id": "T1Pvrc58FHvI",
        "outputId": "a670c999-4a70-4ed0-fcf3-0fdabbdd8011",
        "colab": {
          "base_uri": "https://localhost:8080/",
          "height": 610
        }
      },
      "execution_count": null,
      "outputs": [
        {
          "output_type": "execute_result",
          "data": {
            "text/plain": [
              "<matplotlib.legend.Legend at 0x7f91541ead50>"
            ]
          },
          "metadata": {},
          "execution_count": 10
        },
        {
          "output_type": "display_data",
          "data": {
            "text/plain": [
              "<Figure size 1440x720 with 1 Axes>"
            ],
            "image/png": "[encoded data removed]"
          },
          "metadata": {
            "needs_background": "light"
          }
        }
      ]
    }
  ]
}