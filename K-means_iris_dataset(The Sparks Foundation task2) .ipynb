{
  "nbformat": 4,
  "nbformat_minor": 0,
  "metadata": {
    "colab": {
      "name": "Untitled14.ipynb",
      "provenance": [],
      "authorship_tag": "ABX9TyNwYi9qrpfoIAVB5g4+AcRt",
      "include_colab_link": true
    },
    "kernelspec": {
      "name": "python3",
      "display_name": "Python 3"
    },
    "language_info": {
      "name": "python"
    },
    "accelerator": "TPU"
  },
  "cells": [
    {
      "cell_type": "markdown",
      "metadata": {
        "id": "view-in-github",
        "colab_type": "text"
      },
      "source": [
        "<a href=\"https://colab.research.google.com/github/Ahmed-Shatla/K-means_iris_dataset-The-Sparks-Foundation-Task2-/blob/main/K-means_iris_dataset(The%20Sparks%20Foundation%20task2)%20.ipynb\" target=\"_parent\"><img src=\"https://colab.research.google.com/assets/colab-badge.svg\" alt=\"Open In Colab\"/></a>"
      ]
    },
    {
      "cell_type": "markdown",
      "source": [
        "#Author: Ahmed Mohamed Abdelaziz"
      ],
      "metadata": {
        "id": "H_FbycXZU9_6"
      }
    },
    {
      "cell_type": "markdown",
      "source": [
        "##task2: Prediction using unsupervised machine leanrning"
      ],
      "metadata": {
        "id": "u2Io5RlcCiSO"
      }
    },
    {
      "cell_type": "markdown",
      "source": [
        "##Importing libraries"
      ],
      "metadata": {
        "id": "bxUKsV_RVAjO"
      }
    },
    {
      "cell_type": "code",
      "execution_count": 1,
      "metadata": {
        "id": "X0DfPA7rzCOr"
      },
      "outputs": [],
      "source": [
        "import pandas as pd\n",
        "import numpy as np\n",
        "import matplotlib.pyplot as plt\n",
        "import seaborn as sns"
      ]
    },
    {
      "cell_type": "markdown",
      "source": [
        "##getting the data from drive"
      ],
      "metadata": {
        "id": "2MfTqD_KVNcG"
      }
    },
    {
      "cell_type": "code",
      "source": [
        "data = pd.read_csv('/content/drive/MyDrive/sparks/Iris.csv')\n",
        "X,y = data.iloc[:,:-1],data.iloc[:,-1]"
      ],
      "metadata": {
        "id": "brpx4no70KZR"
      },
      "execution_count": 2,
      "outputs": []
    },
    {
      "cell_type": "markdown",
      "source": [
        "##Drop ID column"
      ],
      "metadata": {
        "id": "2ZvPCNLAVakP"
      }
    },
    {
      "cell_type": "code",
      "source": [
        "X=X.drop(['Id'],axis=1)\n"
      ],
      "metadata": {
        "id": "4gwFXnHr3ACP"
      },
      "execution_count": 3,
      "outputs": []
    },
    {
      "cell_type": "markdown",
      "source": [
        "##Calculate Within-Cluster Sum of Square (WCSS) then use elbow method\n"
      ],
      "metadata": {
        "id": "TMDdo5ArVxTA"
      }
    },
    {
      "cell_type": "code",
      "source": [
        "from sklearn.cluster import KMeans\n",
        "wcss=[]\n",
        "for i in range(1,11):\n",
        "  model=KMeans(n_clusters=i,init='k-means++',random_state=1)\n",
        "  model.fit(X)\n",
        "  wcss.append(model.inertia_)"
      ],
      "metadata": {
        "id": "3vDVmQzC0ke_"
      },
      "execution_count": 4,
      "outputs": []
    },
    {
      "cell_type": "markdown",
      "source": [
        "## Number of clusters = 3 'from the graph'"
      ],
      "metadata": {
        "id": "VGonJqU1V3Je"
      }
    },
    {
      "cell_type": "code",
      "source": [
        "plt.plot(range(1,11,1),wcss)\n",
        "plt.title('Elbow Method')\n",
        "plt.xlabel('Number of clusters')\n",
        "plt.ylabel('Wcss')\n",
        "plt.show()"
      ],
      "metadata": {
        "id": "Pz4U5vD65OAh",
        "outputId": "9aa6896f-24a5-4648-b537-667098564835",
        "colab": {
          "base_uri": "https://localhost:8080/",
          "height": 295
        }
      },
      "execution_count": 5,
      "outputs": [
        {
          "output_type": "display_data",
          "data": {
            "text/plain": [
              "<Figure size 432x288 with 1 Axes>"
            ],
            "image/png": "[encoded data removed]"
          },
          "metadata": {
            "needs_background": "light"
          }
        }
      ]
    },
    {
      "cell_type": "code",
      "source": [
        "X=X.iloc[:,:].values"
      ],
      "metadata": {
        "id": "R_b043nYWRkO"
      },
      "execution_count": 6,
      "outputs": []
    },
    {
      "cell_type": "markdown",
      "source": [
        "##Appling kmeans with 3 clusters"
      ],
      "metadata": {
        "id": "qSGt3VNXWEXW"
      }
    },
    {
      "cell_type": "code",
      "source": [
        "model = KMeans(n_clusters=3,init='k-means++',random_state=1)\n",
        "model.fit(X)"
      ],
      "metadata": {
        "id": "QWQbhVKjE2j_",
        "outputId": "326e58a9-f215-4779-b3bb-726772a6f4bd",
        "colab": {
          "base_uri": "https://localhost:8080/"
        }
      },
      "execution_count": 7,
      "outputs": [
        {
          "output_type": "execute_result",
          "data": {
            "text/plain": [
              "KMeans(n_clusters=3, random_state=1)"
            ]
          },
          "metadata": {},
          "execution_count": 7
        }
      ]
    },
    {
      "cell_type": "code",
      "source": [
        "y_pred = model.fit_predict(X)"
      ],
      "metadata": {
        "id": "6FVXFq-DFQ4e"
      },
      "execution_count": 8,
      "outputs": []
    },
    {
      "cell_type": "markdown",
      "source": [
        "##Visualization"
      ],
      "metadata": {
        "id": "DIcHVIzjWjDX"
      }
    },
    {
      "cell_type": "code",
      "source": [
        "plt.figure(figsize=(20,10))\n",
        "plt.scatter(X[y_pred==0,0],X[y_pred==0,1],s=100,c='red',label='cluster1')\n",
        "plt.scatter(X[y_pred==1,0],X[y_pred==1,1],s=100,c='blue',label='cluster2')\n",
        "plt.scatter(X[y_pred==2,0],X[y_pred==2,1],s=100,c='green',label='cluster3')\n",
        "\n",
        "\n",
        "plt.legend()"
      ],
      "metadata": {
        "id": "T1Pvrc58FHvI",
        "outputId": "ec7859f5-b6f8-4b08-81e4-ea11f7179b8f",
        "colab": {
          "base_uri": "https://localhost:8080/",
          "height": 609
        }
      },
      "execution_count": 9,
      "outputs": [
        {
          "output_type": "execute_result",
          "data": {
            "text/plain": [
              "<matplotlib.legend.Legend at 0x7ff2455f0e90>"
            ]
          },
          "metadata": {},
          "execution_count": 9
        },
        {
          "output_type": "display_data",
          "data": {
            "text/plain": [
              "<Figure size 1440x720 with 1 Axes>"
            ],
            "image/png": "[encoded data removed]"
          },
          "metadata": {
            "needs_background": "light"
          }
        }
      ]
    }
  ]
}